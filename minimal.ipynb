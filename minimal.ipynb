{
 "cells": [
  {
   "cell_type": "code",
   "execution_count": 21,
   "metadata": {},
   "outputs": [],
   "source": [
    "import numpy as np\n",
    "import torch\n",
    "from env import Env, RandomEnv\n",
    "from reward import random_reward\n",
    "from _types import Reward\n",
    "from utils import timed\n"
   ]
  },
  {
   "cell_type": "code",
   "execution_count": 53,
   "metadata": {},
   "outputs": [],
   "source": [
    "@timed\n",
    "def minimal_canon(reward: Reward, env: Env, norm_ord: int|float) -> Reward:\n",
    "  r = torch.tensor(reward)\n",
    "  # potential = torch.tensor(reward.mean(axis=(1, 2)), requires_grad=True)\n",
    "  potential = torch.zeros(env.n_s, requires_grad=True)\n",
    "  optimizer = torch.optim.Adam([potential])\n",
    "  for i in range(20000):\n",
    "    optimizer.zero_grad()\n",
    "    r_prime = r + env.discount * potential[None, None, :] - potential[:, None, None]\n",
    "    loss = torch.norm(r_prime, norm_ord)\n",
    "    loss.backward()\n",
    "    optimizer.step()\n",
    "    if torch.norm(potential.grad, 2) < 1e-4: break\n",
    "    if i == 0: print(f\"Initial {norm_ord=} loss={loss.item()} grad={torch.norm(potential.grad, 2)}\")\n",
    "    if i == 10000-1: print(f\"Didn't converge {norm_ord=} loss={loss.item()} grad={torch.norm(potential.grad, 2)}\")\n",
    "  return r_prime.detach().numpy()\n"
   ]
  },
  {
   "cell_type": "code",
   "execution_count": 54,
   "metadata": {},
   "outputs": [
    {
     "name": "stdout",
     "output_type": "stream",
     "text": [
      "n_ord=1\n",
      "Initial norm_ord=1 loss=63939.03575974314 grad=103.81232452392578\n",
      "Didn't converge norm_ord=1 loss=63769.264895336026 grad=8.109253883361816\n",
      "minimal_canon took 2.8044s\n",
      "Initial norm_ord=1 loss=63939.03575974314 grad=103.81232452392578\n",
      "Didn't converge norm_ord=1 loss=63769.264895336026 grad=8.109253883361816\n",
      "minimal_canon took 2.6185s\n",
      "n_ord=2\n",
      "Initial norm_ord=2 loss=885.7309486838012 grad=1.44558584690094\n",
      "Didn't converge norm_ord=2 loss=883.5622704776193 grad=0.00011598818673519418\n",
      "minimal_canon took 1.4641s\n",
      "Initial norm_ord=2 loss=885.7309486838012 grad=1.44558584690094\n",
      "Didn't converge norm_ord=2 loss=883.5622704776193 grad=0.00011598818673519418\n",
      "minimal_canon took 1.3243s\n",
      "n_ord=inf\n",
      "Initial norm_ord=inf loss=38.7035637769601 grad=1.3453624248504639\n",
      "Didn't converge norm_ord=inf loss=31.83190739804587 grad=1.3453624248504639\n",
      "minimal_canon took 3.5038s\n",
      "Initial norm_ord=inf loss=38.7035637769601 grad=1.3453624248504639\n",
      "Didn't converge norm_ord=inf loss=31.83190739804587 grad=1.3453624248504639\n",
      "minimal_canon took 3.5449s\n",
      "n_ord=1\n",
      "Initial norm_ord=1 loss=6481.380543932226 grad=106.71007537841797\n",
      "Didn't converge norm_ord=1 loss=6466.816355140361 grad=8.784076690673828\n",
      "minimal_canon took 2.6872s\n",
      "Initial norm_ord=1 loss=6481.380543932226 grad=106.71007537841797\n",
      "Didn't converge norm_ord=1 loss=6466.816355140361 grad=8.784076690673828\n",
      "minimal_canon took 2.7021s\n",
      "n_ord=2\n",
      "Initial norm_ord=2 loss=89.72533050200924 grad=1.048061490058899\n",
      "minimal_canon took 0.3045s\n",
      "Initial norm_ord=2 loss=89.72533050200924 grad=1.048061490058899\n",
      "minimal_canon took 0.3038s\n",
      "n_ord=inf\n",
      "Initial norm_ord=inf loss=3.790735977265177 grad=1.3453624248504639\n",
      "Didn't converge norm_ord=inf loss=3.2429418057551778 grad=1.3453624248504639\n",
      "minimal_canon took 3.6247s\n",
      "Initial norm_ord=inf loss=3.790735977265177 grad=1.3453624248504639\n",
      "Didn't converge norm_ord=inf loss=3.2429418057551778 grad=1.3453624248504639\n",
      "minimal_canon took 3.4802s\n",
      "n_ord=1\n",
      "Initial norm_ord=1 loss=27.14155892851822 grad=3.271085262298584\n"
     ]
    },
    {
     "ename": "KeyboardInterrupt",
     "evalue": "",
     "output_type": "error",
     "traceback": [
      "\u001b[0;31m---------------------------------------------------------------------------\u001b[0m",
      "\u001b[0;31mKeyboardInterrupt\u001b[0m                         Traceback (most recent call last)",
      "Cell \u001b[0;32mIn[54], line 6\u001b[0m\n\u001b[1;32m      4\u001b[0m \u001b[39mfor\u001b[39;00m n_ord \u001b[39min\u001b[39;00m [\u001b[39m1\u001b[39m, \u001b[39m2\u001b[39m, \u001b[39mfloat\u001b[39m(\u001b[39m'\u001b[39m\u001b[39minf\u001b[39m\u001b[39m'\u001b[39m)]:\n\u001b[1;32m      5\u001b[0m   \u001b[39mprint\u001b[39m(\u001b[39mf\u001b[39m\u001b[39m'\u001b[39m\u001b[39m{\u001b[39;00mn_ord\u001b[39m=}\u001b[39;00m\u001b[39m'\u001b[39m)\n\u001b[0;32m----> 6\u001b[0m   canon1 \u001b[39m=\u001b[39m minimal_canon(r, e, n_ord)\n\u001b[1;32m      7\u001b[0m   canon2 \u001b[39m=\u001b[39m minimal_canon(r, e, n_ord)\n\u001b[1;32m      8\u001b[0m   \u001b[39massert\u001b[39;00m np\u001b[39m.\u001b[39misclose(canon1, canon2)\u001b[39m.\u001b[39mall()\n",
      "File \u001b[0;32m~/Desktop/Research/Reward Distance/utils.py:17\u001b[0m, in \u001b[0;36mtimed.<locals>.wrapped\u001b[0;34m(*args, **kwargs)\u001b[0m\n\u001b[1;32m     14\u001b[0m \u001b[39m@wraps\u001b[39m(f)\n\u001b[1;32m     15\u001b[0m \u001b[39mdef\u001b[39;00m \u001b[39mwrapped\u001b[39m(\u001b[39m*\u001b[39margs, \u001b[39m*\u001b[39m\u001b[39m*\u001b[39mkwargs):\n\u001b[1;32m     16\u001b[0m   st \u001b[39m=\u001b[39m time\u001b[39m.\u001b[39mperf_counter()\n\u001b[0;32m---> 17\u001b[0m   out \u001b[39m=\u001b[39m f(\u001b[39m*\u001b[39;49margs, \u001b[39m*\u001b[39;49m\u001b[39m*\u001b[39;49mkwargs)\n\u001b[1;32m     18\u001b[0m   et \u001b[39m=\u001b[39m time\u001b[39m.\u001b[39mperf_counter()\n\u001b[1;32m     19\u001b[0m   \u001b[39mprint\u001b[39m(\u001b[39mf\u001b[39m\u001b[39m'\u001b[39m\u001b[39m{\u001b[39;00mf\u001b[39m.\u001b[39m\u001b[39m__name__\u001b[39m\u001b[39m}\u001b[39;00m\u001b[39m took \u001b[39m\u001b[39m{\u001b[39;00met\u001b[39m-\u001b[39mst\u001b[39m:\u001b[39;00m\u001b[39m.4f\u001b[39m\u001b[39m}\u001b[39;00m\u001b[39ms\u001b[39m\u001b[39m'\u001b[39m)\n",
      "Cell \u001b[0;32mIn[53], line 12\u001b[0m, in \u001b[0;36mminimal_canon\u001b[0;34m(reward, env, norm_ord)\u001b[0m\n\u001b[1;32m     10\u001b[0m loss \u001b[39m=\u001b[39m torch\u001b[39m.\u001b[39mnorm(r_prime, norm_ord)\n\u001b[1;32m     11\u001b[0m loss\u001b[39m.\u001b[39mbackward()\n\u001b[0;32m---> 12\u001b[0m optimizer\u001b[39m.\u001b[39;49mstep()\n\u001b[1;32m     13\u001b[0m \u001b[39mif\u001b[39;00m torch\u001b[39m.\u001b[39mnorm(potential\u001b[39m.\u001b[39mgrad, \u001b[39m2\u001b[39m) \u001b[39m<\u001b[39m \u001b[39m1e-4\u001b[39m: \u001b[39mbreak\u001b[39;00m\n\u001b[1;32m     14\u001b[0m \u001b[39mif\u001b[39;00m i \u001b[39m==\u001b[39m \u001b[39m0\u001b[39m: \u001b[39mprint\u001b[39m(\u001b[39mf\u001b[39m\u001b[39m\"\u001b[39m\u001b[39mInitial \u001b[39m\u001b[39m{\u001b[39;00mnorm_ord\u001b[39m=}\u001b[39;00m\u001b[39m loss=\u001b[39m\u001b[39m{\u001b[39;00mloss\u001b[39m.\u001b[39mitem()\u001b[39m}\u001b[39;00m\u001b[39m grad=\u001b[39m\u001b[39m{\u001b[39;00mtorch\u001b[39m.\u001b[39mnorm(potential\u001b[39m.\u001b[39mgrad,\u001b[39m \u001b[39m\u001b[39m2\u001b[39m)\u001b[39m}\u001b[39;00m\u001b[39m\"\u001b[39m)\n",
      "File \u001b[0;32m~/miniforge3/envs/torch/lib/python3.10/site-packages/torch/optim/optimizer.py:139\u001b[0m, in \u001b[0;36mOptimizer._hook_for_profile.<locals>.profile_hook_step.<locals>.wrapper\u001b[0;34m(*args, **kwargs)\u001b[0m\n\u001b[1;32m    137\u001b[0m obj, \u001b[39m*\u001b[39m_ \u001b[39m=\u001b[39m args\n\u001b[1;32m    138\u001b[0m profile_name \u001b[39m=\u001b[39m \u001b[39m\"\u001b[39m\u001b[39mOptimizer.step#\u001b[39m\u001b[39m{}\u001b[39;00m\u001b[39m.step\u001b[39m\u001b[39m\"\u001b[39m\u001b[39m.\u001b[39mformat(obj\u001b[39m.\u001b[39m\u001b[39m__class__\u001b[39m\u001b[39m.\u001b[39m\u001b[39m__name__\u001b[39m)\n\u001b[0;32m--> 139\u001b[0m \u001b[39mwith\u001b[39;00m torch\u001b[39m.\u001b[39mautograd\u001b[39m.\u001b[39mprofiler\u001b[39m.\u001b[39mrecord_function(profile_name):\n\u001b[1;32m    140\u001b[0m     out \u001b[39m=\u001b[39m func(\u001b[39m*\u001b[39margs, \u001b[39m*\u001b[39m\u001b[39m*\u001b[39mkwargs)\n\u001b[1;32m    141\u001b[0m     obj\u001b[39m.\u001b[39m_optimizer_step_code()\n",
      "File \u001b[0;32m~/miniforge3/envs/torch/lib/python3.10/site-packages/torch/autograd/profiler.py:488\u001b[0m, in \u001b[0;36mrecord_function.__enter__\u001b[0;34m(self)\u001b[0m\n\u001b[1;32m    487\u001b[0m \u001b[39mdef\u001b[39;00m \u001b[39m__enter__\u001b[39m(\u001b[39mself\u001b[39m):\n\u001b[0;32m--> 488\u001b[0m     \u001b[39mself\u001b[39m\u001b[39m.\u001b[39mhandle \u001b[39m=\u001b[39m torch\u001b[39m.\u001b[39;49mops\u001b[39m.\u001b[39;49mprofiler\u001b[39m.\u001b[39;49m_record_function_enter(\u001b[39mself\u001b[39;49m\u001b[39m.\u001b[39;49mname, \u001b[39mself\u001b[39;49m\u001b[39m.\u001b[39;49margs)\n\u001b[1;32m    489\u001b[0m     \u001b[39mreturn\u001b[39;00m \u001b[39mself\u001b[39m\n",
      "File \u001b[0;32m~/miniforge3/envs/torch/lib/python3.10/site-packages/torch/_ops.py:442\u001b[0m, in \u001b[0;36mOpOverloadPacket.__call__\u001b[0;34m(self, *args, **kwargs)\u001b[0m\n\u001b[1;32m    437\u001b[0m \u001b[39mdef\u001b[39;00m \u001b[39m__call__\u001b[39m(\u001b[39mself\u001b[39m, \u001b[39m*\u001b[39margs, \u001b[39m*\u001b[39m\u001b[39m*\u001b[39mkwargs):\n\u001b[1;32m    438\u001b[0m     \u001b[39m# overloading __call__ to ensure torch.ops.foo.bar()\u001b[39;00m\n\u001b[1;32m    439\u001b[0m     \u001b[39m# is still callable from JIT\u001b[39;00m\n\u001b[1;32m    440\u001b[0m     \u001b[39m# We save the function ptr as the `op` attribute on\u001b[39;00m\n\u001b[1;32m    441\u001b[0m     \u001b[39m# OpOverloadPacket to access it here.\u001b[39;00m\n\u001b[0;32m--> 442\u001b[0m     \u001b[39mreturn\u001b[39;00m \u001b[39mself\u001b[39;49m\u001b[39m.\u001b[39;49m_op(\u001b[39m*\u001b[39;49margs, \u001b[39m*\u001b[39;49m\u001b[39m*\u001b[39;49mkwargs \u001b[39mor\u001b[39;49;00m {})\n",
      "\u001b[0;31mKeyboardInterrupt\u001b[0m: "
     ]
    }
   ],
   "source": [
    "for _ in range(10):\n",
    "  e = RandomEnv(n_s=32, n_a=8)\n",
    "  r = random_reward(e)\n",
    "  for n_ord in [1, 2, float('inf')]:\n",
    "    print(f'{n_ord=}')\n",
    "    canon1 = minimal_canon(r, e, n_ord)\n",
    "    canon2 = minimal_canon(r, e, n_ord)\n",
    "    assert np.isclose(canon1, canon2).all()"
   ]
  }
 ],
 "metadata": {
  "kernelspec": {
   "display_name": "torch",
   "language": "python",
   "name": "python3"
  },
  "language_info": {
   "codemirror_mode": {
    "name": "ipython",
    "version": 3
   },
   "file_extension": ".py",
   "mimetype": "text/x-python",
   "name": "python",
   "nbconvert_exporter": "python",
   "pygments_lexer": "ipython3",
   "version": "3.10.8"
  },
  "orig_nbformat": 4
 },
 "nbformat": 4,
 "nbformat_minor": 2
}
