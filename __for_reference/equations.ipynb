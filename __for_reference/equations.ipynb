{
 "cells": [
  {
   "attachments": {},
   "cell_type": "markdown",
   "metadata": {},
   "source": [
    "# EPIC canonicalization\n",
    "$$\n",
    "\\begin{split}\n",
    "C_{D_s,D_a}(R)(s,a,s')&=R(s,a,s')+\\mathbb{E}[\\gamma R(s',A,S')-R(s,A,S')-\\gamma R(S,A,S')]\\\\\n",
    "S,S'&\\sim D_s\\\\\n",
    "A&\\sim D_a\n",
    "\\end{split}\n",
    "$$\n"
   ]
  },
  {
   "attachments": {},
   "cell_type": "markdown",
   "metadata": {},
   "source": [
    "# DARD canonicalization\n",
    "$$\n",
    "\\begin{split}\n",
    "C_{D_s,D_a}(R)(s,a,s')&=R(s,a,s')+\\mathbb{E}[\\gamma R(s',A,S'')-R(s,A,S')-\\gamma R(S',A,S'')]\\\\\n",
    "A&\\sim D_a\\\\\n",
    "S'&\\sim T(S'|s,A)\\\\\n",
    "S''&\\sim T(S''|s',A)\n",
    "\\end{split}\n",
    "$$"
   ]
  },
  {
   "attachments": {},
   "cell_type": "markdown",
   "metadata": {},
   "source": [
    "# Divergence-free canonicalization\n",
    "$$\n",
    "\\begin{split}\n",
    "K&\\propto\\sup_R\\frac{n(c(R))}{n(R)}\\\\\n",
    "\\forall R:\\quad n(c(R))&\\leq n(R)\n",
    "\\end{split}\n",
    "$$\n"
   ]
  }
 ],
 "metadata": {
  "kernelspec": {
   "display_name": "torch",
   "language": "python",
   "name": "python3"
  },
  "language_info": {
   "name": "python",
   "version": "3.10.8"
  },
  "orig_nbformat": 4,
  "vscode": {
   "interpreter": {
    "hash": "178f5955e7ec2db83c487531b6f19a6ba078d2c9bcad0eaf79872b0fcb34bd80"
   }
  }
 },
 "nbformat": 4,
 "nbformat_minor": 2
}
